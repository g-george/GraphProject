{
 "cells": [
  {
   "cell_type": "code",
   "execution_count": 1,
   "metadata": {},
   "outputs": [],
   "source": [
    "##Final Notebook\n",
    "\n",
    "from SPARQLWrapper import SPARQLWrapper, JSON\n",
    "import networkx as nx\n",
    "import matplotlib.pyplot as plt\n",
    "import pandas as pd\n",
    "import seaborn as sbn\n",
    "import scipy as sp\n",
    "import numpy as np\n",
    "from networkx.algorithms import bipartite"
   ]
  },
  {
   "cell_type": "code",
   "execution_count": 2,
   "metadata": {},
   "outputs": [],
   "source": [
    "#functions to clean code, move url, remove underscores from film names, and remove extra chars from actor\n",
    "def remove_url(dict):\n",
    "    new_dict = {}\n",
    "    for key in dict:\n",
    "        value = dict[key]\n",
    "        new_dict.update({key.replace('http://dbpedia.org/resource/',''):value})\n",
    "    return new_dict\n",
    "    \n",
    "def clean_key(dict):\n",
    "    new_dict = {}\n",
    "    for key in dict:\n",
    "        value = dict[key]\n",
    "        new_dict.update({key.replace('_',' ').replace('(film)',''):value})\n",
    "    return new_dict\n",
    "\n",
    "def remove_junk_from_values(dict):\n",
    "    for key in dict:\n",
    "        for i, value in enumerate(dict[key]):\n",
    "            dict[key][i] = value.replace('(actor)','').replace('()','').replace(\"'\",\"\\'\")\n",
    "    return dict\n",
    "\n",
    "def remove_underscores_from_values(dict):\n",
    "    for key in dict:\n",
    "        for i, value in enumerate(dict[key]):\n",
    "            dict[key][i] = value.replace('_',' ')\n",
    "    return dict\n",
    "\n",
    "def remove_nodes_by_degree(graph, deg):\n",
    "    for n in graph.nodes():\n",
    "        if graph.degree(n) < deg:\n",
    "            graph.remove_node(n)\n",
    "            \n",
    "def remove_edges_by_weight(graph, weight):\n",
    "    for edge in graph.edges(data ='weight'):\n",
    "        if graph.has_edge(edge[0], edge[1]):\n",
    "            if graph[edge[0]][edge[1]]['weight'] < weight:\n",
    "                graph.remove_edge(edge[0], edge[1])"
   ]
  },
  {
   "cell_type": "code",
   "execution_count": 6,
   "metadata": {},
   "outputs": [
    {
     "name": "stdout",
     "output_type": "stream",
     "text": [
      "{'http://dbpedia.org/resource/Easy_A': ['Lisa_Kudrow', 'Thomas_Haden_Church', 'Aly_Michalka', 'Amanda_Bynes', 'Patricia_Clarkson', 'Dan_Byrd', 'Penn_Badgley', 'Emma_Stone', 'Cam_Gigandet', 'Malcolm_McDowell', 'Stanley_Tucci'], 'http://dbpedia.org/resource/Paper_Man_(2009_film)': ['Lisa_Kudrow', 'Ryan_Reynolds', 'Jeff_Daniels', 'Emma_Stone'], 'http://dbpedia.org/resource/Aloha_(film)': ['Danny_McBride', 'Alec_Baldwin', 'Bill_Murray', 'Rachel_McAdams', 'Bradley_Cooper', 'Emma_Stone', 'John_Krasinski'], 'http://dbpedia.org/resource/The_Amazing_Spider-Man_(2012_film)': ['Denis_Leary', 'Sally_Field', 'Andrew_Garfield', 'Campbell_Scott', 'Martin_Sheen', 'Emma_Stone', 'Irrfan_Khan', 'Rhys_Ifans'], 'http://dbpedia.org/resource/La_La_Land_(film)': ['Finn_Wittrock', 'Rosemarie_DeWitt', 'Ryan_Gosling', 'Meagen_Fay', 'Emma_Stone', 'J._K._Simmons', 'Tom_Everett_Scott'], 'http://dbpedia.org/resource/Gangster_Squad': ['Robert_Patrick', 'Josh_Brolin', 'Ryan_Gosling', 'Mireille_Enos', 'Sean_Penn', 'Nick_Nolte', 'Giovanni_Ribisi', 'Emma_Stone', 'Anthony_Mackie', 'Michael_Peña'], 'http://dbpedia.org/resource/Battle_of_the_Sexes_(film)': ['Sarah_Silverman', 'Elisabeth_Shue', 'Steve_Carell', 'Austin_Stowell', 'Andrea_Riseborough', 'Alan_Cumming', 'Emma_Stone'], 'http://dbpedia.org/resource/Crazy,_Stupid,_Love': ['Kevin_Bacon', 'Ryan_Gosling', 'Steve_Carell', 'Julianne_Moore', 'Emma_Stone', 'Marisa_Tomei'], 'http://dbpedia.org/resource/Marmaduke_(film)': ['Caroline_Sunshine', 'Marlon_Wayans', 'Christopher_Mintz-Plasse', 'Steve_Coogan', 'Kiefer_Sutherland', 'William_H._Macy', 'Fergie_(singer)', 'George_Lopez', 'Owen_Wilson', 'Judy_Greer', 'Emma_Stone', 'Lee_Pace', 'Sam_Elliott'], 'http://dbpedia.org/resource/The_Croods': ['Clark_Duke', 'Ryan_Reynolds', 'Nicolas_Cage', 'Catherine_Keener', 'Emma_Stone', 'Cloris_Leachman'], 'http://dbpedia.org/resource/Irrational_Man_(film)': ['Parker_Posey', 'Joaquin_Phoenix', 'Emma_Stone', 'Jamie_Blackley'], 'http://dbpedia.org/resource/Magic_in_the_Moonlight': ['Colin_Firth', 'Erica_Leerhsen', 'Marcia_Gay_Harden', 'Jacki_Weaver', 'Simon_McBurney', 'Emma_Stone', 'Eileen_Atkins', 'Hamish_Linklater'], 'http://dbpedia.org/resource/Ghosts_of_Girlfriends_Past': ['Michael_Douglas', 'Breckin_Meyer', 'Anne_Archer', 'Christina_Milian', 'Robert_Forster', 'Emma_Stone', 'Jennifer_Garner', 'Lacey_Chabert', 'Matthew_McConaughey'], 'http://dbpedia.org/resource/The_House_Bunny': ['Rumer_Willis', 'Kiely_Williams', 'Anna_Faris', 'Emma_Stone', 'Kat_Dennings', 'Colin_Hanks', 'Katharine_McPhee'], 'http://dbpedia.org/resource/Movie_43': ['Kate_Winslet', 'Jeremy_Allen_White', 'Hugh_Jackman', 'Liev_Schreiber', 'Kate_Bosworth', 'Halle_Berry', 'Richard_Gere', 'Christopher_Mintz-Plasse', 'Kristen_Bell', 'Josh_Duhamel', 'Uma_Thurman', 'Naomi_Watts', 'Johnny_Knoxville', 'Anna_Faris', 'Emma_Stone', 'Seann_William_Scott', 'Gerard_Butler', 'Jason_Sudeikis', 'Terrence_Howard', 'Justin_Long', 'Leslie_Bibb', 'Chloë_Grace_Moretz', 'Elizabeth_Banks']}\n"
     ]
    }
   ],
   "source": [
    "###Emma Stone SPARQL Query\n",
    "sparql = SPARQLWrapper(\"http://dbpedia.org/sparql\")\n",
    "sparql.setQuery('''\n",
    "PREFIX rdf: <http://www.w3.org/1999/02/22-rdf-syntax-ns#>\n",
    "PREFIX rdfs: <http://www.w3.org/2000/01/rdf-schema#>\n",
    "PREFIX db: <http://dbpedia.org/>\n",
    "PREFIX dbo: <http://dbpedia.org/ontology/>\n",
    "PREFIX dbr: <http://dbpedia.org/resource/>\n",
    "SELECT ?filmLink ?costars\n",
    "    WHERE {\n",
    "    ?filmLink rdf:type dbo:Film .\n",
    "    ?filmLink dbo:starring dbr:Emma_Stone .\n",
    "    ?filmLink dbo:starring ?costars\n",
    "    \n",
    "}''')\n",
    "\n",
    "sparql.setReturnFormat(JSON)\n",
    "results = sparql.query().convert()\n",
    "\n",
    "a = {}\n",
    "for result in results[\"results\"][\"bindings\"]:\n",
    "    if result[\"filmLink\"][\"value\"] not in a.keys():\n",
    "        a[result[\"filmLink\"][\"value\"]] = [result[\"costars\"][\"value\"][28:]]\n",
    "    else:\n",
    "        a[result[\"filmLink\"][\"value\"]].append(result[\"costars\"][\"value\"][28:])\n",
    "\n",
    "a = remove_junk_from_values(a)\n",
    "print(a)"
   ]
  },
  {
   "cell_type": "code",
   "execution_count": 5,
   "metadata": {},
   "outputs": [
    {
     "name": "stdout",
     "output_type": "stream",
     "text": [
      "{'http://dbpedia.org/resource/Date_Night': ['Common_(rapper)', 'Tina_Fey', 'Steve_Carell', 'Mark_Wahlberg', 'Taraji_P._Henson'], 'http://dbpedia.org/resource/The_Fighter': ['Christian_Bale', 'Melissa_Leo', 'Amy_Adams', 'Mark_Wahlberg', 'Jack_McGee_'], 'http://dbpedia.org/resource/The_Corruptor': ['Chow_Yun-fat', 'Mark_Wahlberg'], 'http://dbpedia.org/resource/The_Happening_(2008_film)': ['Zooey_Deschanel', 'John_Leguizamo', 'Betty_Buckley', 'Mark_Wahlberg'], 'http://dbpedia.org/resource/The_Truth_About_Charlie': ['Ted_Levine', 'Magali_Noël', 'Charles_Aznavour', 'Park_Joong-hoon', 'Lisa_Gay_Hamilton', 'Tim_Robbins', 'Anna_Karina', 'Stephen_Dillane', 'Mark_Wahlberg', 'Christine_Boisson', 'Thandie_Newton'], 'http://dbpedia.org/resource/We_Own_the_Night_(film)': ['Joaquin_Phoenix', 'Robert_Duvall', 'Eva_Mendes', 'Mark_Wahlberg'], 'http://dbpedia.org/resource/Three_Kings_(1999_film)': ['Jamie_Kennedy', 'Ice_Cube', 'Spike_Jonze', 'Mykelti_Williamson', 'Nora_Dunn', 'Saïd_Taghmaoui', 'George_Clooney', 'Cliff_Curtis', 'Mark_Wahlberg'], 'http://dbpedia.org/resource/Contraband_(2012_film)': ['Ben_Foster', 'Giovanni_Ribisi', 'Kate_Beckinsale', 'Mark_Wahlberg'], 'http://dbpedia.org/resource/Max_Payne_(film)': ['Olga_Kurylenko', \"Chris_O'Donnell\", 'Mila_Kunis', 'Ludacris', 'Donal_Logue', 'Mark_Wahlberg', 'Beau_Bridges'], 'http://dbpedia.org/resource/Shooter_(2007_film)': ['Rade_Šerbedžija', 'Ned_Beatty', 'Rhona_Mitra', 'Elias_Koteas', 'Danny_Glover', 'Kate_Mara', 'Mark_Wahlberg', 'Michael_Peña'], 'http://dbpedia.org/resource/The_Substitute_(1993_film)': ['Dalton_James', 'Amanda_Donohoe', 'Natasha_Gregson_Wagner', 'Mark_Wahlberg'], 'http://dbpedia.org/resource/2_Guns': ['Denzel_Washington', 'Mark_Wahlberg'], 'http://dbpedia.org/resource/Mojave_(film)': ['Oscar_Isaac', 'Mark_Wahlberg', 'Garrett_Hedlund', 'Walton_Goggins', 'Louise_Bourgoin'], 'http://dbpedia.org/resource/Transformers:_Age_of_Extinction': ['Mark_Wahlberg', 'Stanley_Tucci'], 'http://dbpedia.org/resource/Traveller_(1997_film)': ['Julianna_Margulies', 'Bill_Paxton', 'Mark_Wahlberg'], 'http://dbpedia.org/resource/Invincible_(2006_film)': ['Greg_Kinnear', 'Mark_Wahlberg', 'Elizabeth_Banks'], 'http://dbpedia.org/resource/The_Yards': ['Charlize_Theron', 'Joaquin_Phoenix', 'Ellen_Burstyn', 'Mark_Wahlberg', 'James_Caan_'], 'http://dbpedia.org/resource/I_Heart_Huckabees': ['Dustin_Hoffman', 'Jude_Law', 'Naomi_Watts', 'Lily_Tomlin', 'Isabelle_Huppert', 'Mark_Wahlberg', 'Jason_Schwartzman'], 'http://dbpedia.org/resource/The_Departed': ['Leonardo_DiCaprio', 'Ray_Winstone', 'Matt_Damon', 'Alec_Baldwin', 'Martin_Sheen', 'Mark_Wahlberg', 'Vera_Farmiga', 'Jack_Nicholson'], 'http://dbpedia.org/resource/The_Big_Hit': ['Avery_Brooks', 'Lou_Diamond_Phillips', 'Christina_Applegate', 'Lainie_Kazan', 'China_Chow', 'Elliott_Gould', 'Bokeem_Woodbine', 'Mark_Wahlberg', 'Lela_Rochon', 'Antonio_Sabato,_Jr.'], 'http://dbpedia.org/resource/The_Basketball_Diaries_(film)': ['Leonardo_DiCaprio', 'Ernie_Hudson', 'Lorraine_Bracco', 'Michael_Imperioli', 'Patrick_McGaw', 'Bruno_Kirby', 'Mark_Wahlberg', 'James_Madio'], 'http://dbpedia.org/resource/Transformers:_The_Last_Knight': ['Anthony_Hopkins', 'Liam_Garrigan', 'Josh_Duhamel', 'Isabela_Moner', 'John_Turturro', 'Tyrese_Gibson', 'Mark_Wahlberg', 'Stanley_Tucci'], 'http://dbpedia.org/resource/Champs_(film)': ['50_Cent', 'Denzel_Washington', 'Spike_Lee', 'Ron_Howard', 'Bernard_Hopkins', 'Evander_Holyfield', 'Mary_J._Blige', 'Mark_Wahlberg', 'Naazim_Richardson'], 'http://dbpedia.org/resource/Rock_Star_(2001_film)': ['Jennifer_Aniston', 'Timothy_Olyphant', 'Timothy_Spall', 'Dominic_West', 'Mark_Wahlberg'], 'http://dbpedia.org/resource/Ted_(film)': ['Mila_Kunis', 'Mark_Wahlberg'], 'http://dbpedia.org/resource/Ted_2': ['Morgan_Freeman', 'Amanda_Seyfried', 'Jessica_Barth', 'Giovanni_Ribisi', 'John_Slattery', 'Mark_Wahlberg'], 'http://dbpedia.org/resource/Broken_City': ['Jeffrey_Wright_', 'Russell_Crowe', 'Barry_Pepper', 'Catherine_Zeta-Jones', 'Mark_Wahlberg'], 'http://dbpedia.org/resource/Four_Brothers_(film)': ['André_3000', 'Tyrese_Gibson', 'Mark_Wahlberg', 'Garrett_Hedlund'], \"http://dbpedia.org/resource/Daddy's_Home_(film)\": ['Will_Ferrell', 'Linda_Cardellini', 'Mark_Wahlberg'], 'http://dbpedia.org/resource/Planet_of_the_Apes_(2001_film)': ['Estella_Warren', 'Michael_Clarke_Duncan', 'Helena_Bonham_Carter', 'Tim_Roth', 'Paul_Giamatti', 'Mark_Wahlberg'], 'http://dbpedia.org/resource/Fear_(1996_film)': ['William_Petersen', 'Amy_Brenneman', 'Reese_Witherspoon', 'Alyssa_Milano', 'Mark_Wahlberg'], 'http://dbpedia.org/resource/The_Italian_Job_(2003_film)': ['Charlize_Theron', 'Donald_Sutherland', 'Edward_Norton', 'Jason_Statham', 'Mark_Wahlberg'], 'http://dbpedia.org/resource/The_Lovely_Bones_(film)': ['Saoirse_Ronan', 'Michael_Imperioli', 'Susan_Sarandon', 'Rachel_Weisz', 'Mark_Wahlberg', 'Stanley_Tucci'], 'http://dbpedia.org/resource/The_Other_Guys': ['Mark_Wahlberg'], 'http://dbpedia.org/resource/The_Perfect_Storm_(film)': ['John_Hawkes_', 'John_C._Reilly', 'Bob_Gunton', 'Mary_Elizabeth_Mastrantonio', 'Karen_Allen', 'William_Fichtner', 'George_Clooney', 'Diane_Lane', 'Mark_Wahlberg'], 'http://dbpedia.org/resource/Boogie_Nights': ['Burt_Reynolds', 'Heather_Graham', 'John_C._Reilly', 'William_H._Macy', 'Don_Cheadle', 'Philip_Seymour_Hoffman', 'Julianne_Moore', 'Nicole_Ari_Parker', 'Mark_Wahlberg']}\n"
     ]
    }
   ],
   "source": [
    "###Mark Wahlbergs SPARQL Query\n",
    "sparql = SPARQLWrapper(\"http://dbpedia.org/sparql\")\n",
    "sparql.setQuery('''\n",
    "PREFIX rdf: <http://www.w3.org/1999/02/22-rdf-syntax-ns#>\n",
    "PREFIX rdfs: <http://www.w3.org/2000/01/rdf-schema#>\n",
    "PREFIX db: <http://dbpedia.org/>\n",
    "PREFIX dbo: <http://dbpedia.org/ontology/>\n",
    "PREFIX dbr: <http://dbpedia.org/resource/>\n",
    "SELECT ?filmLink2 ?costars2\n",
    "    WHERE {\n",
    "    ?filmLink2 rdf:type dbo:Film .\n",
    "    ?filmLink2 dbo:starring dbr:Mark_Wahlberg .\n",
    "    ?filmLink2 dbo:starring ?costars2\n",
    "    \n",
    "}''')\n",
    "\n",
    "sparql.setReturnFormat(JSON)\n",
    "results = sparql.query().convert()\n",
    "\n",
    "\n",
    "b = {}\n",
    "for result in results[\"results\"][\"bindings\"]:\n",
    "    if result[\"filmLink2\"][\"value\"] not in b.keys():\n",
    "        b[result[\"filmLink2\"][\"value\"]] = [result[\"costars2\"][\"value\"][28:]]\n",
    "    else:\n",
    "        b[result[\"filmLink2\"][\"value\"]].append(result[\"costars2\"][\"value\"][28:])\n",
    "b = remove_junk_from_values(b)\n",
    "b.pop('http://dbpedia.org/resource/Transformers_(film_series)',None)\n",
    "print(b)"
   ]
  },
  {
   "cell_type": "code",
   "execution_count": 5,
   "metadata": {
    "collapsed": true
   },
   "outputs": [],
   "source": [
    "###Both Costar lists to be used for 2nd sparql Query\n",
    "\n",
    "emma_costars = []\n",
    "\n",
    "for value in a.values():\n",
    "    for values in value:\n",
    "        emma_costars.append(values)\n",
    "emma_costars = set(emma_costars)\n",
    "\n",
    "mark_costars = []\n",
    "\n",
    "for value in b.values():\n",
    "    for values in value:\n",
    "        mark_costars.append(values)\n",
    "mark_costars = set(mark_costars)\n"
   ]
  },
  {
   "cell_type": "code",
   "execution_count": 6,
   "metadata": {
    "collapsed": true
   },
   "outputs": [],
   "source": [
    "#Removes bad queries\n",
    "mark_costars.remove('Chris_O\\'Donnell')\n",
    "mark_costars.remove('Common_(rapper)')\n",
    "emma_costars.remove('Fergie_(singer)')\n",
    "mark_costars.remove('Antonio_Sabato,_Jr.')"
   ]
  },
  {
   "cell_type": "code",
   "execution_count": 7,
   "metadata": {},
   "outputs": [
    {
     "name": "stdout",
     "output_type": "stream",
     "text": [
      "\n"
     ]
    }
   ],
   "source": [
    "#2nd Query for Emma network\n",
    "d = {}\n",
    "sparqlx = SPARQLWrapper(\"http://dbpedia.org/sparql\")\n",
    "for actor in emma_costars:\n",
    "    sparqlx.setQuery('''\n",
    "PREFIX rdf: <http://www.w3.org/1999/02/22-rdf-syntax-ns#>\n",
    "PREFIX rdfs: <http://www.w3.org/2000/01/rdf-schema#>\n",
    "PREFIX db: <http://dbpedia.org/>\n",
    "PREFIX dbo: <http://dbpedia.org/ontology/>\n",
    "PREFIX dbr: <http://dbpedia.org/resource/>\n",
    "SELECT ?filmLink2 ?costars2\n",
    "    WHERE {\n",
    "    ?filmLink2 rdf:type dbo:Film .\n",
    "    ?filmLink2 dbo:starring dbr:%s .\n",
    "    ?filmLink2 dbo:starring ?costars2\n",
    "    \n",
    "}''' % actor)\n",
    "    sparqlx.setReturnFormat(JSON)\n",
    "    try:\n",
    "        results = sparqlx.query().convert()\n",
    "    except e:\n",
    "        print e\n",
    "        continue\n",
    "    for result in results[\"results\"][\"bindings\"]:\n",
    "        if result[\"filmLink2\"][\"value\"] not in d.keys():\n",
    "            d[result[\"filmLink2\"][\"value\"]] = [result[\"costars2\"][\"value\"][28:]]\n",
    "        else:\n",
    "            if result[\"costars2\"][\"value\"][28:] not in d[result[\"filmLink2\"][\"value\"]]:\n",
    "                d[result[\"filmLink2\"][\"value\"]].append(result[\"costars2\"][\"value\"][28:])\n",
    "d = remove_url(d)\n",
    "d = clean_key(d)\n",
    "d = remove_underscores_from_values(d)\n",
    "d.pop('http://dbpedia.org/resource/Transformers_(film_series)',None)\n",
    "print"
   ]
  },
  {
   "cell_type": "code",
   "execution_count": 8,
   "metadata": {},
   "outputs": [
    {
     "name": "stdout",
     "output_type": "stream",
     "text": [
      "\n"
     ]
    }
   ],
   "source": [
    "#2nd Query for Mark network\n",
    "e = {}\n",
    "sparqlx = SPARQLWrapper(\"http://dbpedia.org/sparql\")\n",
    "for actor in mark_costars:\n",
    "    sparqlx.setQuery('''\n",
    "PREFIX rdf: <http://www.w3.org/1999/02/22-rdf-syntax-ns#>\n",
    "PREFIX rdfs: <http://www.w3.org/2000/01/rdf-schema#>\n",
    "PREFIX db: <http://dbpedia.org/>\n",
    "PREFIX dbo: <http://dbpedia.org/ontology/>\n",
    "PREFIX dbr: <http://dbpedia.org/resource/>\n",
    "SELECT ?filmLink2 ?costars2\n",
    "    WHERE {\n",
    "    ?filmLink2 rdf:type dbo:Film .\n",
    "    ?filmLink2 dbo:starring dbr:%s .\n",
    "    ?filmLink2 dbo:starring ?costars2\n",
    "    \n",
    "}''' % actor)\n",
    "    sparqlx.setReturnFormat(JSON)\n",
    "    try:\n",
    "        results = sparqlx.query().convert()\n",
    "    except e:\n",
    "        print e\n",
    "        continue\n",
    "    for result in results[\"results\"][\"bindings\"]:\n",
    "        if result[\"filmLink2\"][\"value\"] not in e.keys():\n",
    "            e[result[\"filmLink2\"][\"value\"]] = [result[\"costars2\"][\"value\"][28:]]\n",
    "        else:\n",
    "            if result[\"costars2\"][\"value\"][28:] not in e[result[\"filmLink2\"][\"value\"]]:\n",
    "                e[result[\"filmLink2\"][\"value\"]].append(result[\"costars2\"][\"value\"][28:])\n",
    "\n",
    "e = remove_url(e)\n",
    "e = clean_key(e)\n",
    "e = remove_underscores_from_values(e)\n",
    "e.pop('http://dbpedia.org/resource/Transformers_(film_series)',None)\n",
    "print"
   ]
  },
  {
   "cell_type": "code",
   "execution_count": 9,
   "metadata": {
    "collapsed": true
   },
   "outputs": [],
   "source": [
    "### Write Emma Graphml\n",
    "emma_test_graph = nx.Graph()\n",
    "for key in d.keys():\n",
    "    emma_test_graph.add_node(key, bipartite = 1)\n",
    "    for actor in d.get(key):\n",
    "        emma_test_graph.add_node(actor, bipartite = 0)\n",
    "        emma_test_graph.add_edge(actor, key)\n",
    "nx.write_gml(emma_test_graph, \"emmafull.gml\")"
   ]
  },
  {
   "cell_type": "code",
   "execution_count": 10,
   "metadata": {
    "collapsed": true
   },
   "outputs": [],
   "source": [
    "### Write Mark Graphml\n",
    "mark_test_graph = nx.Graph()\n",
    "for key in e.keys():\n",
    "    mark_test_graph.add_node(key, bipartite = 1)\n",
    "    for actor in e.get(key):\n",
    "        mark_test_graph.add_node(actor, bipartite = 0)\n",
    "        mark_test_graph.add_edge(actor, key)\n",
    "nx.write_gml(mark_test_graph, \"markfull.gml\")"
   ]
  },
  {
   "cell_type": "code",
   "execution_count": null,
   "metadata": {
    "collapsed": true
   },
   "outputs": [],
   "source": [
    " "
   ]
  },
  {
   "cell_type": "code",
   "execution_count": null,
   "metadata": {
    "collapsed": true
   },
   "outputs": [],
   "source": []
  },
  {
   "cell_type": "code",
   "execution_count": null,
   "metadata": {
    "collapsed": true
   },
   "outputs": [],
   "source": []
  },
  {
   "cell_type": "code",
   "execution_count": 77,
   "metadata": {
    "collapsed": true
   },
   "outputs": [],
   "source": [
    "a2a_emma = nx.Graph()\n",
    "\n",
    "s = d.copy()\n",
    "\n",
    "for n in emma_costars:\n",
    "    a2a_emma.add_node(n)\n",
    "    \n",
    "for i in s.keys():\n",
    "    lst = s.get(i)\n",
    "    for k in range(0, len(lst)):\n",
    "        for l in range(k, len(lst)):\n",
    "            if(a2a_emma.has_edge(lst[k], lst[l])):\n",
    "                a2a_emma[lst[k]][lst[l]]['weight'] += 1\n",
    "            else:\n",
    "                a2a_emma.add_edge(lst[k], lst[l], weight = 1)\n"
   ]
  },
  {
   "cell_type": "code",
   "execution_count": 78,
   "metadata": {
    "collapsed": true
   },
   "outputs": [],
   "source": [
    "a2a_mark = nx.Graph()\n",
    "\n",
    "t = e.copy()\n",
    "\n",
    "for n in mark_costars:\n",
    "    a2a_mark.add_node(n)\n",
    "    \n",
    "for i in t.keys():\n",
    "    lst = t.get(i)\n",
    "    for k in range(0, len(lst)):\n",
    "        for l in range(k, len(lst)):\n",
    "            if(a2a_mark.has_edge(lst[k], lst[l])):\n",
    "                a2a_mark[lst[k]][lst[l]]['weight'] += 1\n",
    "            else:\n",
    "                a2a_mark.add_edge(lst[k], lst[l], weight = 1)\n"
   ]
  },
  {
   "cell_type": "code",
   "execution_count": null,
   "metadata": {
    "collapsed": true
   },
   "outputs": [],
   "source": []
  },
  {
   "cell_type": "code",
   "execution_count": 58,
   "metadata": {},
   "outputs": [
    {
     "name": "stdout",
     "output_type": "stream",
     "text": [
      "14297\n",
      "20400\n"
     ]
    }
   ],
   "source": [
    "print len(a2a_emma.edges())\n",
    "remove_edges_by_weight(a2a_emma, 2)\n",
    "print len(a2a_mark.edges())\n",
    "remove_edges_by_weight(a2a_mark, 2)"
   ]
  },
  {
   "cell_type": "code",
   "execution_count": 59,
   "metadata": {},
   "outputs": [
    {
     "name": "stdout",
     "output_type": "stream",
     "text": [
      "14297\n",
      "20400\n"
     ]
    }
   ],
   "source": [
    "print len(a2a_emma.edges())\n",
    "print len(a2a_mark.edges())\n",
    "    "
   ]
  },
  {
   "cell_type": "code",
   "execution_count": 61,
   "metadata": {},
   "outputs": [
    {
     "name": "stdout",
     "output_type": "stream",
     "text": [
      "795\n",
      "996\n"
     ]
    }
   ],
   "source": [
    "###########TODO###########\n",
    "print len(a2a_emma.nodes())\n",
    "remove_nodes_by_degree(a2a_emma, 25)\n",
    "print len(a2a_mark.nodes())\n",
    "remove_nodes_by_degree(a2a_mark,25)\n",
    "\n"
   ]
  },
  {
   "cell_type": "code",
   "execution_count": 62,
   "metadata": {},
   "outputs": [
    {
     "name": "stdout",
     "output_type": "stream",
     "text": [
      "408\n",
      "683\n"
     ]
    }
   ],
   "source": [
    "print len(a2a_emma.nodes())\n",
    "print len(a2a_mark.nodes())"
   ]
  },
  {
   "cell_type": "code",
   "execution_count": 41,
   "metadata": {},
   "outputs": [
    {
     "name": "stdout",
     "output_type": "stream",
     "text": [
      "539\n",
      "759\n"
     ]
    }
   ],
   "source": [
    "\n",
    "nx.write_gml(a2a_emma, \"a2aemma.gml\")\n",
    "nx.write_gml(a2a_mark,'a2amark.gml')"
   ]
  },
  {
   "cell_type": "code",
   "execution_count": 63,
   "metadata": {
    "collapsed": true
   },
   "outputs": [],
   "source": [
    "betSeriesE = pd.Series(nx.betweenness_centrality(a2a_emma))"
   ]
  },
  {
   "cell_type": "code",
   "execution_count": 64,
   "metadata": {
    "collapsed": true
   },
   "outputs": [],
   "source": [
    "cloSeriesE = pd.Series(nx.closeness_centrality(a2a_emma))"
   ]
  },
  {
   "cell_type": "code",
   "execution_count": 65,
   "metadata": {
    "collapsed": true
   },
   "outputs": [],
   "source": [
    "betSeriesM = pd.Series(nx.betweenness_centrality(a2a_mark))"
   ]
  },
  {
   "cell_type": "code",
   "execution_count": 66,
   "metadata": {
    "collapsed": true
   },
   "outputs": [],
   "source": [
    "cloSeriesM = pd.Series(nx.closeness_centrality(a2a_mark))"
   ]
  },
  {
   "cell_type": "code",
   "execution_count": 92,
   "metadata": {
    "collapsed": true
   },
   "outputs": [],
   "source": [
    "#Write the A2A Graph for Emma\n",
    "#nx.write_gml(a2a_emma, \"a2a_emma_final.gml\")"
   ]
  },
  {
   "cell_type": "code",
   "execution_count": 93,
   "metadata": {
    "collapsed": true
   },
   "outputs": [],
   "source": [
    "#Write the A2A Graph for Mark\n",
    "#nx.write_gml(a2a_mark, \"a2a_mark_final.gml\")"
   ]
  },
  {
   "cell_type": "code",
   "execution_count": 79,
   "metadata": {
    "collapsed": true
   },
   "outputs": [],
   "source": [
    "emma_degrees = a2a_emma.degree()\n",
    "mark_degrees = a2a_mark.degree()"
   ]
  },
  {
   "cell_type": "code",
   "execution_count": null,
   "metadata": {
    "collapsed": true
   },
   "outputs": [],
   "source": []
  },
  {
   "cell_type": "code",
   "execution_count": 169,
   "metadata": {},
   "outputs": [
    {
     "ename": "ValueError",
     "evalue": "object of too small depth for desired array",
     "output_type": "error",
     "traceback": [
      "\u001b[1;31m---------------------------------------------------------------------------\u001b[0m",
      "\u001b[1;31mValueError\u001b[0m                                Traceback (most recent call last)",
      "\u001b[1;32m<ipython-input-169-c40a1232fe97>\u001b[0m in \u001b[0;36m<module>\u001b[1;34m()\u001b[0m\n\u001b[1;32m----> 1\u001b[1;33m \u001b[0mme\u001b[0m \u001b[1;33m=\u001b[0m \u001b[0mnp\u001b[0m\u001b[1;33m.\u001b[0m\u001b[0mbincount\u001b[0m\u001b[1;33m(\u001b[0m\u001b[0memma_degrees\u001b[0m\u001b[1;33m)\u001b[0m\u001b[1;33m\u001b[0m\u001b[0m\n\u001b[0m",
      "\u001b[1;31mValueError\u001b[0m: object of too small depth for desired array"
     ]
    }
   ],
   "source": []
  },
  {
   "cell_type": "code",
   "execution_count": 249,
   "metadata": {},
   "outputs": [
    {
     "data": {
      "image/png": "[encoded data removed]",
      "text/plain": [
       "<matplotlib.figure.Figure at 0x18539550>"
      ]
     },
     "metadata": {},
     "output_type": "display_data"
    }
   ],
   "source": [
    "x = emma_degrees.values()\n",
    "y = mark_degrees.values()\n",
    "plt.hist([y,x])\n",
    "plt.title('Combined Degree Distribution: Unfiltered Data Set')\n",
    "plt.ylabel('Actors')\n",
    "plt.xlabel('Degrees')\n",
    "labels = ['Mark Wahlberg','Emma Stone']\n",
    "plt.legend(labels)\n",
    "plt.yscale('log')\n",
    "v =[0,20,60,100,140,180,220,260,300,340,380]\n",
    "plt.xticks(v)\n",
    "plt.savefig('emmamark2.png')\n",
    "plt.show()"
   ]
  },
  {
   "cell_type": "code",
   "execution_count": 298,
   "metadata": {
    "scrolled": true
   },
   "outputs": [
    {
     "data": {
      "image/png": "[encoded data removed]",
      "text/plain": [
       "<matplotlib.figure.Figure at 0x17bb5dd8>"
      ]
     },
     "metadata": {},
     "output_type": "display_data"
    }
   ],
   "source": [
    "sbn.distplot(cloSeriesM, color = 'green')\n",
    "plt.title('Mark Wahlberg Closeness Centrality')\n",
    "plt.ylabel('Count')\n",
    "plt.xlabel('Closeness')\n",
    "plt.savefig('3clo.png')\n",
    "plt.show()"
   ]
  },
  {
   "cell_type": "code",
   "execution_count": 299,
   "metadata": {},
   "outputs": [
    {
     "data": {
      "image/png": "[encoded data removed]",
      "text/plain": [
       "<matplotlib.figure.Figure at 0x17e930f0>"
      ]
     },
     "metadata": {},
     "output_type": "display_data"
    }
   ],
   "source": [
    "sbn.distplot(cloSeriesE, color = 'red')\n",
    "plt.title('Emma Stone Closeness Centrality')\n",
    "plt.ylabel('Count')\n",
    "plt.xlabel('Closeness')\n",
    "plt.savefig('4clo.png')\n",
    "plt.show()"
   ]
  },
  {
   "cell_type": "code",
   "execution_count": 290,
   "metadata": {
    "collapsed": true
   },
   "outputs": [],
   "source": [
    "emma_df = pd.DataFrame({})\n",
    "mark_df = pd.DataFrame({})"
   ]
  },
  {
   "cell_type": "code",
   "execution_count": 291,
   "metadata": {
    "collapsed": true
   },
   "outputs": [],
   "source": [
    "degSeriesM = pd.Series(mark_degrees)\n",
    "degSeriesE = pd.Series(emma_degrees)"
   ]
  },
  {
   "cell_type": "code",
   "execution_count": null,
   "metadata": {
    "collapsed": true
   },
   "outputs": [],
   "source": []
  },
  {
   "cell_type": "code",
   "execution_count": 292,
   "metadata": {
    "collapsed": true
   },
   "outputs": [],
   "source": [
    "mark_df['deg'] = degSeriesM\n",
    "mark_df['bet'] = betSeriesM\n",
    "mark_df['clo'] = cloSeriesM"
   ]
  },
  {
   "cell_type": "code",
   "execution_count": 293,
   "metadata": {},
   "outputs": [
    {
     "data": {
      "text/plain": [
       "<seaborn.axisgrid.PairGrid at 0x15c3fb38>"
      ]
     },
     "execution_count": 293,
     "metadata": {},
     "output_type": "execute_result"
    }
   ],
   "source": [
    "g = sbn.PairGrid(mark_df)\n",
    "g.map_offdiag(plt.scatter)"
   ]
  },
  {
   "cell_type": "code",
   "execution_count": 294,
   "metadata": {
    "collapsed": true
   },
   "outputs": [],
   "source": [
    "emma_df['deg'] = degSeriesE\n",
    "emma_df['bet'] = betSeriesE\n",
    "emma_df['clo'] = cloSeriesE"
   ]
  },
  {
   "cell_type": "code",
   "execution_count": 295,
   "metadata": {},
   "outputs": [
    {
     "data": {
      "image/png": "[encoded data removed]",
      "text/plain": [
       "<matplotlib.figure.Figure at 0x1865ba20>"
      ]
     },
     "metadata": {},
     "output_type": "display_data"
    },
    {
     "data": {
      "image/png": "[encoded data removed]",
      "text/plain": [
       "<matplotlib.figure.Figure at 0x18490588>"
      ]
     },
     "metadata": {},
     "output_type": "display_data"
    }
   ],
   "source": [
    "g = sbn.PairGrid(emma_df)\n",
    "g.map_offdiag(plt.scatter)\n",
    "plt.show()"
   ]
  },
  {
   "cell_type": "code",
   "execution_count": 126,
   "metadata": {
    "scrolled": false
   },
   "outputs": [
    {
     "ename": "KeyboardInterrupt",
     "evalue": "",
     "output_type": "error",
     "traceback": [
      "\u001b[1;31m---------------------------------------------------------------------------\u001b[0m",
      "\u001b[1;31mKeyboardInterrupt\u001b[0m                         Traceback (most recent call last)",
      "\u001b[1;32m<ipython-input-126-b99b893e63da>\u001b[0m in \u001b[0;36m<module>\u001b[1;34m()\u001b[0m\n\u001b[0;32m     13\u001b[0m         \u001b[1;32mfor\u001b[0m \u001b[0mj\u001b[0m \u001b[1;32min\u001b[0m \u001b[0me_movies\u001b[0m\u001b[1;33m.\u001b[0m\u001b[0mkeys\u001b[0m\u001b[1;33m(\u001b[0m\u001b[1;33m)\u001b[0m\u001b[1;33m:\u001b[0m\u001b[1;33m\u001b[0m\u001b[0m\n\u001b[0;32m     14\u001b[0m             \u001b[1;32mif\u001b[0m\u001b[1;33m(\u001b[0m\u001b[0mi\u001b[0m \u001b[1;33m!=\u001b[0m \u001b[0mj\u001b[0m \u001b[1;32mand\u001b[0m \u001b[0mj\u001b[0m \u001b[1;32mnot\u001b[0m \u001b[1;32min\u001b[0m \u001b[0mmovie_list\u001b[0m\u001b[1;33m)\u001b[0m\u001b[1;33m:\u001b[0m\u001b[1;33m\u001b[0m\u001b[0m\n\u001b[1;32m---> 15\u001b[1;33m                 \u001b[0mactor_list\u001b[0m \u001b[1;33m=\u001b[0m \u001b[0me_movies\u001b[0m\u001b[1;33m.\u001b[0m\u001b[0mget\u001b[0m\u001b[1;33m(\u001b[0m\u001b[0mj\u001b[0m\u001b[1;33m)\u001b[0m\u001b[1;33m\u001b[0m\u001b[0m\n\u001b[0m\u001b[0;32m     16\u001b[0m                 \u001b[1;32mif\u001b[0m\u001b[1;33m(\u001b[0m\u001b[0mactor\u001b[0m \u001b[1;32min\u001b[0m \u001b[0mactor_list\u001b[0m\u001b[1;33m)\u001b[0m\u001b[1;33m:\u001b[0m\u001b[1;33m\u001b[0m\u001b[0m\n\u001b[0;32m     17\u001b[0m                     \u001b[1;32mif\u001b[0m\u001b[1;33m(\u001b[0m\u001b[0mm2m_emma\u001b[0m\u001b[1;33m.\u001b[0m\u001b[0mhas_edge\u001b[0m\u001b[1;33m(\u001b[0m\u001b[0mj\u001b[0m\u001b[1;33m,\u001b[0m \u001b[0mi\u001b[0m\u001b[1;33m)\u001b[0m\u001b[1;33m)\u001b[0m\u001b[1;33m:\u001b[0m\u001b[1;33m\u001b[0m\u001b[0m\n",
      "\u001b[1;31mKeyboardInterrupt\u001b[0m: "
     ]
    }
   ],
   "source": [
    "#Emma Movie-to-Movie\n",
    "m2m_emma = nx.Graph()\n",
    "e_movies = d.copy()\n",
    "for movie in e_movies.keys():\n",
    "    m2m_emma.add_node(movie)\n",
    "    \n",
    "movie_list = []\n",
    "    \n",
    "for i in e_movies.keys():\n",
    "    movie_list.append(i)\n",
    "    actors = e_movies.get(i)\n",
    "    for actor in actors:\n",
    "        for j in e_movies.keys():\n",
    "            if(i != j and j not in movie_list):\n",
    "                actor_list = e_movies.get(j)\n",
    "                if(actor in actor_list):\n",
    "                    if(m2m_emma.has_edge(j, i)):\n",
    "                        m2m_emma[j][i]['weight'] += 1\n",
    "                    else:\n",
    "                        a2a_emma.add_edge(j, i, weight = 1)\n",
    "\n"
   ]
  },
  {
   "cell_type": "code",
   "execution_count": null,
   "metadata": {
    "collapsed": true
   },
   "outputs": [],
   "source": []
  },
  {
   "cell_type": "code",
   "execution_count": null,
   "metadata": {
    "collapsed": true
   },
   "outputs": [],
   "source": []
  }
 ],
 "metadata": {
  "kernelspec": {
   "display_name": "Python 3",
   "language": "python",
   "name": "python3"
  },
  "language_info": {
   "codemirror_mode": {
    "name": "ipython",
    "version": 3
   },
   "file_extension": ".py",
   "mimetype": "text/x-python",
   "name": "python",
   "nbconvert_exporter": "python",
   "pygments_lexer": "ipython3",
   "version": "3.7.0"
  }
 },
 "nbformat": 4,
 "nbformat_minor": 2
}
